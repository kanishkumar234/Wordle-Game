{
 "cells": [
  {
   "cell_type": "markdown",
   "id": "ae3f47f5",
   "metadata": {},
   "source": []
  },
  {
   "cell_type": "code",
   "execution_count": 7,
   "id": "7a2cdd37",
   "metadata": {},
   "outputs": [
    {
     "name": "stdout",
     "output_type": "stream",
     "text": [
      " Green  : 2 \n",
      " Yellow : 1 \n",
      " Grey : 0 \n",
      "Enter Word  tenet\n",
      "t  :  0\n",
      "e  :  0\n",
      "n  :  0\n",
      "e  :  0\n",
      "t  :  0\n",
      "Enter Word  tenet\n",
      "t  :  0\n",
      "e  :  0\n",
      "n  :  0\n",
      "e  :  0\n",
      "t  :  0\n",
      "Enter Word  badge\n",
      "b  :  2\n",
      "a  :  0\n",
      "d  :  1\n",
      "g  :  0\n",
      "e  :  0\n",
      "Enter Word  spoon\n",
      "s  :  1\n",
      "p  :  0\n",
      "o  :  0\n",
      "o  :  0\n",
      "n  :  0\n",
      "Enter Word  tenet\n",
      "t  :  0\n",
      "e  :  0\n",
      "n  :  0\n",
      "e  :  0\n",
      "t  :  0\n",
      "Enter Word  badge\n",
      "b  :  2\n",
      "a  :  0\n",
      "d  :  1\n",
      "g  :  0\n",
      "e  :  0\n",
      "Failure\n",
      " Correct Word : \n",
      "birds\n"
     ]
    }
   ],
   "source": [
    "import random\n",
    "  \n",
    "# Open the file in read mode\n",
    "with open(\"5-words.txt\", \"r\") as file:\n",
    "    allText = file.read()\n",
    "    words = list(map(str, allText.split()))\n",
    "  \n",
    "    # print random string\n",
    "    w=random.choice(words)\n",
    "    print(\" Green  : 2 \")\n",
    "    print(\" Yellow : 1 \")\n",
    "    print(\" Grey : 0 \")\n",
    "    \n",
    "    cnt=1\n",
    "    flag=0\n",
    "    while(cnt<=6 and flag==0):\n",
    "        value=input(\"Enter Word  \")\n",
    "        if value in words:\n",
    "            cnt+=1\n",
    "            if(value==w):\n",
    "                flag=1\n",
    "            else:\n",
    "                l=[0,0,0,0,0]\n",
    "                for x in range(5):\n",
    "                    if value[x]==w[x]:\n",
    "                        l[x]=2\n",
    "                for x in range(5):\n",
    "                    if l[x]==0:\n",
    "                        for y in range(5):\n",
    "                            if l[y]==0 and value[x]==w[y] :\n",
    "                                l[x]=1\n",
    "                                break\n",
    "                    print(value[x], \" : \",l[x])\n",
    "        else:\n",
    "            print(\"Not a Word\")\n",
    "    if flag==1:\n",
    "        print(\"Success\")\n",
    "    else:\n",
    "        print(\"Failure\")\n",
    "    print(\" Correct Word : \")    \n",
    "    print(w)"
   ]
  },
  {
   "cell_type": "code",
   "execution_count": null,
   "id": "f39f759a",
   "metadata": {},
   "outputs": [],
   "source": []
  },
  {
   "cell_type": "code",
   "execution_count": null,
   "id": "225da0c7",
   "metadata": {},
   "outputs": [],
   "source": []
  },
  {
   "cell_type": "code",
   "execution_count": null,
   "id": "48a85764",
   "metadata": {},
   "outputs": [],
   "source": []
  }
 ],
 "metadata": {
  "kernelspec": {
   "display_name": "Python 3 (ipykernel)",
   "language": "python",
   "name": "python3"
  },
  "language_info": {
   "codemirror_mode": {
    "name": "ipython",
    "version": 3
   },
   "file_extension": ".py",
   "mimetype": "text/x-python",
   "name": "python",
   "nbconvert_exporter": "python",
   "pygments_lexer": "ipython3",
   "version": "3.9.7"
  }
 },
 "nbformat": 4,
 "nbformat_minor": 5
}
